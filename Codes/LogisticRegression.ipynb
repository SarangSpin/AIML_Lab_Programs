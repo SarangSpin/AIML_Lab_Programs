{
 "cells": [
  {
   "cell_type": "code",
   "execution_count": 1,
   "id": "835b0280-9953-4b4c-ba49-3a01919bb248",
   "metadata": {},
   "outputs": [],
   "source": [
    "from sklearn.datasets import *\n",
    "from sklearn.metrics import *\n",
    "from sklearn.preprocessing import *\n",
    "from sklearn.model_selection import *\n",
    "import numpy as np\n",
    "\n",
    "iris = load_iris()\n",
    "X, y = iris.data, iris.target != 0\n",
    "\n",
    "X_train, X_test, y_train, y_test = train_test_split(X, y, test_size = 0.3, random_state = 1)\n",
    "scaler = StandardScaler()\n",
    "X_train_std = scaler.fit_transform(X_train)\n",
    "X_test_std = scaler.fit_transform(X_test)"
   ]
  },
  {
   "cell_type": "code",
   "execution_count": 7,
   "id": "e275dd5a-766b-45c8-9e38-4f5bf0d1a4b3",
   "metadata": {},
   "outputs": [],
   "source": [
    "def sigmoid(z):\n",
    "    return 1.0/(1.0 + np.exp(-z))\n",
    "\n",
    "def logisticRegression(X_train, y_train, learning_rate = 0.01, max_iterations = 1000):\n",
    "    weights = np.zeros(X_train.shape[1])\n",
    "    for _ in range(max_iterations):\n",
    "        z = np.dot(X_train, weights)\n",
    "        h = sigmoid(z)\n",
    "        gradient_val = np.dot(X_train.T, (h-y_train))/y_train.shape[0]\n",
    "        weights -= learning_rate * gradient_val\n",
    "    return weights\n",
    "    "
   ]
  },
  {
   "cell_type": "code",
   "execution_count": 13,
   "id": "b186084b-4d62-4387-b50d-b55f8e03fac3",
   "metadata": {},
   "outputs": [
    {
     "name": "stdout",
     "output_type": "stream",
     "text": [
      "Classification Report:\n",
      "              precision    recall  f1-score   support\n",
      "\n",
      "       False       0.93      1.00      0.97        14\n",
      "        True       1.00      0.97      0.98        31\n",
      "\n",
      "    accuracy                           0.98        45\n",
      "   macro avg       0.97      0.98      0.97        45\n",
      "weighted avg       0.98      0.98      0.98        45\n",
      "\n"
     ]
    }
   ],
   "source": [
    "weights = logisticRegression(X_train_std, y_train)\n",
    "y_pred = sigmoid(np.dot(X_test_std, weights))>0.5\n",
    "print(\"Classification Report:\")\n",
    "print(classification_report(y_test, y_pred))"
   ]
  }
 ],
 "metadata": {
  "kernelspec": {
   "display_name": "Python 3 (ipykernel)",
   "language": "python",
   "name": "python3"
  },
  "language_info": {
   "codemirror_mode": {
    "name": "ipython",
    "version": 3
   },
   "file_extension": ".py",
   "mimetype": "text/x-python",
   "name": "python",
   "nbconvert_exporter": "python",
   "pygments_lexer": "ipython3",
   "version": "3.9.19"
  }
 },
 "nbformat": 4,
 "nbformat_minor": 5
}
